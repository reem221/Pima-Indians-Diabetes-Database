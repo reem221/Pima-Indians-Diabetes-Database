{
 "cells": [
  {
   "cell_type": "code",
   "execution_count": null,
   "metadata": {},
   "outputs": [],
   "source": [
    "# Import necessary libraries\n",
    "import pandas as pd\n",
    "import numpy as np\n",
    "import matplotlib.pyplot as plt\n",
    "import seaborn as sns\n",
    "from sklearn.model_selection import train_test_split\n",
    "from sklearn.preprocessing import StandardScaler\n",
    "from sklearn.svm import SVC\n",
    "from sklearn.metrics import accuracy_score, classification_report, confusion_matrix"
   ]
  },
  {
   "cell_type": "code",
   "execution_count": null,
   "metadata": {},
   "outputs": [],
   "source": [
    "# Load the dataset and  Display the first few rows of the dataset\n",
    "df = pd.read_csv(\"/content/diabetes.csv\")\n",
    "df.head()"
   ]
  },
  {
   "cell_type": "code",
   "execution_count": null,
   "metadata": {},
   "outputs": [],
   "source": [
    "# Checking for missing values\n",
    "df.isnull().sum()"
   ]
  },
  {
   "cell_type": "code",
   "execution_count": null,
   "metadata": {},
   "outputs": [],
   "source": [
    "# Handling zero values in columns where they are not appropriate (e.g., Glucose, BloodPressure, BMI, etc.)\n",
    "# We will replace zero values with NaN to handle them later\n",
    "df[['Glucose', 'BloodPressure', 'SkinThickness', 'Insulin', 'BMI']] = df[['Glucose', 'BloodPressure',\n",
    "                                                                              'SkinThickness', 'Insulin',\n",
    "                                                                              'BMI']].replace(0, np.nan)"
   ]
  },
  {
   "cell_type": "code",
   "execution_count": null,
   "metadata": {},
   "outputs": [],
   "source": [
    "# Display the updated dataset with NaN values for incorrect zeros\n",
    "df.head()"
   ]
  },
  {
   "cell_type": "code",
   "execution_count": null,
   "metadata": {},
   "outputs": [],
   "source": [
    "# Handling missing data (e.g., filling NaN values with mean or median)\n",
    "df['Glucose'].fillna(df['Glucose'].mean(), inplace=True)\n",
    "df['BloodPressure'].fillna(df['BloodPressure'].mean(), inplace=True)\n",
    "df['SkinThickness'].fillna(df['SkinThickness'].median(), inplace=True)\n",
    "df['Insulin'].fillna(df['Insulin'].median(), inplace=True)\n",
    "df['BMI'].fillna(df['BMI'].mean(), inplace=True)"
   ]
  },
  {
   "cell_type": "code",
   "execution_count": null,
   "metadata": {},
   "outputs": [],
   "source": [
    "# Verify if all missing values are handled\n",
    "df.isnull().sum() "
   ]
  },
  {
   "cell_type": "code",
   "execution_count": null,
   "metadata": {},
   "outputs": [],
   "source": [
    "# Descriptive statistics to understand the distribution of data\n",
    "df.describe()"
   ]
  },
  {
   "cell_type": "code",
   "execution_count": null,
   "metadata": {},
   "outputs": [],
   "source": [
    "# Display basic information about the data\n",
    "df.info()"
   ]
  },
  {
   "cell_type": "code",
   "execution_count": null,
   "metadata": {},
   "outputs": [],
   "source": [
    "# Set the style for seaborn\n",
    "sns.set(style=\"whitegrid\")\n",
    "\n",
    "# Plot histograms for each feature\n",
    "df.hist(bins=20, figsize=(14, 10), color='teal')\n",
    "plt.suptitle('Distribution of Features')\n",
    "plt.show()"
   ]
  },
  {
   "cell_type": "code",
   "execution_count": null,
   "metadata": {},
   "outputs": [],
   "source": [
    "# Correlation matrix with heatmap\n",
    "plt.figure(figsize=(12, 8))\n",
    "corr_matrix = df.corr()\n",
    "\n",
    "# Using seaborn to plot the heatmap\n",
    "sns.heatmap(corr_matrix, annot=True, cmap='coolwarm', linewidths=0.5)\n",
    "plt.title('Correlation Matrix of Features')\n",
    "plt.show()"
   ]
  },
  {
   "cell_type": "code",
   "execution_count": null,
   "metadata": {},
   "outputs": [],
   "source": [
    "# Plot count of the target variable 'Outcome'\n",
    "sns.countplot(x='Outcome', data=df, palette='coolwarm')\n",
    "plt.title('Outcome Distribution')\n",
    "plt.show()"
   ]
  },
  {
   "cell_type": "code",
   "execution_count": null,
   "metadata": {},
   "outputs": [],
   "source": [
    "# Pairplot to visualize the relationships between variables\n",
    "sns.pairplot(df, hue=\"Outcome\", palette='coolwarm')\n",
    "plt.suptitle('Pairplot of Features', y=1.02)\n",
    "plt.show()"
   ]
  },
  {
   "cell_type": "code",
   "execution_count": null,
   "metadata": {},
   "outputs": [],
   "source": [
    "# Boxplot for Glucose vs Outcome\n",
    "plt.figure(figsize=(8, 6))\n",
    "sns.boxplot(x='Outcome', y='Glucose', data=df, palette='coolwarm')\n",
    "plt.title('Glucose Levels by Outcome')\n",
    "plt.show()\n",
    "\n",
    "# Boxplot for BMI vs Outcome\n",
    "plt.figure(figsize=(8, 6))\n",
    "sns.boxplot(x='Outcome', y='BMI', data=df, palette='coolwarm')\n",
    "plt.title('BMI Levels by Outcome')\n",
    "plt.show()"
   ]
  },
  {
   "cell_type": "code",
   "execution_count": null,
   "metadata": {},
   "outputs": [],
   "source": [
    "# Distribution plot for Glucose\n",
    "plt.figure(figsize=(8, 6))\n",
    "sns.histplot(df['Glucose'], kde=True, color='teal')\n",
    "plt.title('Distribution of Glucose Levels')\n",
    "plt.show()\n",
    "\n",
    "# Distribution plot for BMI\n",
    "plt.figure(figsize=(8, 6))\n",
    "sns.histplot(df['BMI'], kde=True, color='coral')\n",
    "plt.title('Distribution of BMI Levels')\n",
    "plt.show()"
   ]
  },
  {
   "cell_type": "code",
   "execution_count": null,
   "metadata": {},
   "outputs": [],
   "source": [
    "# Step 1: Split the data into features (X) and target (y)\n",
    "X = df.drop('Outcome', axis=1)\n",
    "y = df['Outcome']"
   ]
  },
  {
   "cell_type": "code",
   "execution_count": null,
   "metadata": {},
   "outputs": [],
   "source": [
    "# Step 2: Split the dataset into training and testing sets (80% train, 20% test)\n",
    "X_train, X_test, y_train, y_test = train_test_split(X, y, test_size=0.2, random_state=42)"
   ]
  },
  {
   "cell_type": "code",
   "execution_count": null,
   "metadata": {},
   "outputs": [],
   "source": [
    "# Step 3: Scale the features for better SVM performance\n",
    "scaler = StandardScaler()\n",
    "X_train_scaled = scaler.fit_transform(X_train)\n",
    "X_test_scaled = scaler.transform(X_test)"
   ]
  },
  {
   "cell_type": "code",
   "execution_count": null,
   "metadata": {},
   "outputs": [],
   "source": [
    "# Step 4: Train the SVM model\n",
    "svm_model = SVC(kernel='linear')  # Linear kernel for simplicity\n",
    "svm_model.fit(X_train_scaled, y_train)"
   ]
  },
  {
   "cell_type": "code",
   "execution_count": null,
   "metadata": {},
   "outputs": [],
   "source": [
    "# Step 5: Make predictions on the test set\n",
    "y_pred = svm_model.predict(X_test_scaled)"
   ]
  },
  {
   "cell_type": "code",
   "execution_count": null,
   "metadata": {},
   "outputs": [],
   "source": [
    "# Step 6: Evaluate the model\n",
    "accuracy = accuracy_score(y_test, y_pred)\n",
    "conf_matrix = confusion_matrix(y_test, y_pred)\n",
    "class_report = classification_report(y_test, y_pred)\n",
    "print(f\"Accuracy: {accuracy}\")\n",
    "print(f\"conf_matrix: {conf_matrix}\")\n",
    "print(f\"class_report: {class_report}\")"
   ]
  }
 ],
 "metadata": {
  "language_info": {
   "name": "python"
  }
 },
 "nbformat": 4,
 "nbformat_minor": 2
}
